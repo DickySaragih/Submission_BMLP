{
  "nbformat": 4,
  "nbformat_minor": 0,
  "metadata": {
    "colab": {
      "provenance": []
    },
    "kernelspec": {
      "name": "python3",
      "display_name": "Python 3"
    },
    "language_info": {
      "name": "python"
    }
  },
  "cells": [
    {
      "cell_type": "markdown",
      "source": [
        "# **1. Import Library**"
      ],
      "metadata": {
        "id": "Ero1ONJHydHM"
      }
    },
    {
      "cell_type": "code",
      "source": [
        "import pandas as pd\n",
        "import numpy as np\n",
        "import matplotlib.pyplot as plt\n",
        "import seaborn as sns\n",
        "from sklearn.model_selection import train_test_split\n",
        "from sklearn.neighbors import KNeighborsClassifier\n",
        "from sklearn.tree import DecisionTreeClassifier\n",
        "from sklearn.metrics import silhouette_score, confusion_matrix, f1_score\n",
        "from sklearn.metrics import classification_report\n",
        "from sklearn.model_selection import RandomizedSearchCV\n",
        "from sklearn.model_selection import GridSearchCV\n",
        "from sklearn.metrics import classification_report"
      ],
      "metadata": {
        "id": "bEyBgkGUybwl"
      },
      "execution_count": 23,
      "outputs": []
    },
    {
      "cell_type": "markdown",
      "source": [
        "# **2. Memuat Dataset dari Hasil Clustering**"
      ],
      "metadata": {
        "id": "F7VHZHyqymd1"
      }
    },
    {
      "cell_type": "code",
      "source": [
        "url = 'https://raw.githubusercontent.com/DickySaragih/Submission_BMLP/refs/heads/main/clustering_result.csv'\n",
        "df = pd.read_csv(url)"
      ],
      "metadata": {
        "id": "4E-RdTWLvdlh"
      },
      "execution_count": 24,
      "outputs": []
    },
    {
      "cell_type": "markdown",
      "source": [
        "# **3. Data splitting**"
      ],
      "metadata": {
        "id": "rJGnR1QpPjBw"
      }
    },
    {
      "cell_type": "code",
      "source": [
        "X = df.iloc[:, :-1]\n",
        "y = df.iloc[:, -1]"
      ],
      "metadata": {
        "id": "O-bWSmhgvnzf"
      },
      "execution_count": 25,
      "outputs": []
    },
    {
      "cell_type": "code",
      "source": [
        "print(X.head())\n",
        "print(X.info())\n",
        "print(X.describe())\n",
        "print(y.value_counts())\n"
      ],
      "metadata": {
        "colab": {
          "base_uri": "https://localhost:8080/"
        },
        "id": "-Wk5b7VOvtGt",
        "outputId": "ba8d55a4-e99f-4fa8-daef-27bea58fe4fc"
      },
      "execution_count": 26,
      "outputs": [
        {
          "output_type": "stream",
          "name": "stdout",
          "text": [
            "   symbol  account  type          2020          2021          2022  \\\n",
            "0       0        0     0  7.702640e+11  1.026717e+12  1.224423e+12   \n",
            "1       0        1     0  7.658490e+11  4.581350e+11  8.487700e+11   \n",
            "2       0        2     0 -1.092095e+13 -1.213381e+13 -1.330375e+13   \n",
            "3       0        3     0  3.878995e+12  3.878995e+12  3.878995e+12   \n",
            "4       0        4     0 -2.426100e+10 -2.454300e+10 -2.705700e+10   \n",
            "\n",
            "           2023  Cluster      PCA1  \n",
            "0  8.420640e+11        0 -0.055724  \n",
            "1  6.744870e+11        0 -0.087542  \n",
            "2 -1.443685e+13        0 -1.638410  \n",
            "3  3.878995e+12        0  0.285904  \n",
            "4 -2.651600e+10        0 -0.170797  \n",
            "<class 'pandas.core.frame.DataFrame'>\n",
            "RangeIndex: 89243 entries, 0 to 89242\n",
            "Data columns (total 9 columns):\n",
            " #   Column   Non-Null Count  Dtype  \n",
            "---  ------   --------------  -----  \n",
            " 0   symbol   89243 non-null  int64  \n",
            " 1   account  89243 non-null  int64  \n",
            " 2   type     89243 non-null  int64  \n",
            " 3   2020     89243 non-null  float64\n",
            " 4   2021     89243 non-null  float64\n",
            " 5   2022     89243 non-null  float64\n",
            " 6   2023     89243 non-null  float64\n",
            " 7   Cluster  89243 non-null  int64  \n",
            " 8   PCA1     89243 non-null  float64\n",
            "dtypes: float64(5), int64(4)\n",
            "memory usage: 6.1 MB\n",
            "None\n",
            "             symbol       account          type          2020          2021  \\\n",
            "count  89243.000000  89243.000000  89243.000000  8.924300e+04  8.924300e+04   \n",
            "mean     305.314478    134.907108      0.897045  1.197697e+12  1.399118e+12   \n",
            "std      173.547767     79.332852      0.867864  1.487055e+13  1.670935e+13   \n",
            "min        0.000000      0.000000      0.000000 -4.127934e+14 -4.826358e+14   \n",
            "25%      158.500000     66.000000      0.000000  2.500000e-01  4.713800e+02   \n",
            "50%      306.000000    137.000000      1.000000  1.084323e+10  1.198430e+10   \n",
            "75%      456.000000    206.000000      2.000000  4.058700e+11  4.457210e+11   \n",
            "max      603.000000    263.000000      2.000000  1.610065e+15  1.725611e+15   \n",
            "\n",
            "               2022          2023       Cluster          PCA1  \n",
            "count  8.924300e+04  8.924300e+04  89243.000000  8.924300e+04  \n",
            "mean   1.497669e+12  1.714984e+12      0.004056  2.372643e-17  \n",
            "std    1.829260e+13  1.916257e+13      0.089480  1.982331e+00  \n",
            "min   -5.610016e+14 -5.709176e+14      0.000000 -5.750816e+01  \n",
            "25%    1.497715e+05  5.319924e+07      0.000000 -1.677857e-01  \n",
            "50%    1.493715e+10  9.375000e+10      0.000000 -1.492327e-01  \n",
            "75%    5.339481e+11  1.714984e+12      0.000000 -8.717796e-02  \n",
            "max    1.992545e+15  2.174219e+15      2.000000  2.145093e+02  \n",
            "PCA2\n",
            " 0.003471    954\n",
            " 0.021754    545\n",
            "-0.054368    224\n",
            " 0.057839     91\n",
            "-0.034416     88\n",
            "            ... \n",
            " 0.096647      1\n",
            " 0.059685      1\n",
            "-0.112487      1\n",
            " 0.003600      1\n",
            " 0.004131      1\n",
            "Name: count, Length: 68723, dtype: int64\n"
          ]
        }
      ]
    },
    {
      "cell_type": "markdown",
      "source": [
        "# **4. Membangun Model Klasifikasi**\n"
      ],
      "metadata": {
        "id": "XGrWhG8xy43O"
      }
    },
    {
      "cell_type": "markdown",
      "source": [
        "## **a. Membangun Model Klasifikasi**\n",
        "1. K-Nearest Neighbors (KNN)\n",
        "2. Decision Tree"
      ],
      "metadata": {
        "id": "BsMTf5RlziRM"
      }
    },
    {
      "cell_type": "code",
      "source": [
        "#d Pembagian data Testing dan Training\n",
        "X_train, X_test, y_train, y_test = train_test_split(X, y, test_size=0.3, random_state=42)\n",
        "\n",
        "\n",
        "print(\"X_train shape:\", X_train.shape)\n",
        "print(\"y_train shape:\", y_train.shape)\n",
        "print(\"X_test shape:\", X_test.shape)\n",
        "print(\"y_test shape:\", y_test.shape)\n"
      ],
      "metadata": {
        "colab": {
          "base_uri": "https://localhost:8080/"
        },
        "id": "YAmlZFRH106O",
        "outputId": "e2ce9bf4-f76b-467f-c3aa-59306e90e6d8"
      },
      "execution_count": 37,
      "outputs": [
        {
          "output_type": "stream",
          "name": "stdout",
          "text": [
            "X_train shape: (62470, 9)\n",
            "y_train shape: (62470,)\n",
            "X_test shape: (26773, 9)\n",
            "y_test shape: (26773,)\n"
          ]
        }
      ]
    },
    {
      "cell_type": "code",
      "source": [
        "# Model KNN hasil Training\n",
        "\n",
        "\n",
        "knn_model = KNeighborsClassifier(n_neighbors=5) # Anda dapat mengubah nilai n_neighbors\n",
        "\n",
        "knn_model.fit(X_train, y_train)\n",
        "\n",
        "# Evaluasi model dengan akurasi pada data training\n",
        "train_accuracy = knn_model.score(X_train, y_train)\n",
        "print(f\"Akurasi Training KNN: {train_accuracy}\")\n"
      ],
      "metadata": {
        "colab": {
          "base_uri": "https://localhost:8080/"
        },
        "id": "8H9U-bF2wxtU",
        "outputId": "40f7ee91-f80e-4ce7-c37b-ae4cd380d4ff"
      },
      "execution_count": 53,
      "outputs": [
        {
          "output_type": "stream",
          "name": "stdout",
          "text": [
            "Akurasi Training KNN: 0.99886345445814\n"
          ]
        }
      ]
    },
    {
      "cell_type": "code",
      "source": [
        "# Model Decision tree hasil training\n",
        "dt_model = DecisionTreeClassifier(max_depth=5, min_samples_split=10, min_samples_leaf=5, random_state=42)\n",
        "\n",
        "dt_model.fit(X_train, y_train)\n",
        "\n",
        "# Evaluasi model dengan akurasi pada data training\n",
        "train_accuracy = dt_model.score(X_train, y_train)\n",
        "print(f\"Akurasi Training Decision Tree: {train_accuracy}\")\n"
      ],
      "metadata": {
        "colab": {
          "base_uri": "https://localhost:8080/"
        },
        "id": "1kW5zihL0zSg",
        "outputId": "a2ee62e3-1e29-46fa-edfb-a053fa3bffa7"
      },
      "execution_count": 60,
      "outputs": [
        {
          "output_type": "stream",
          "name": "stdout",
          "text": [
            "Akurasi Training Decision Tree: 0.9986713622538819\n"
          ]
        }
      ]
    },
    {
      "cell_type": "markdown",
      "source": [
        "## **b. Evaluasi Model Klasifikasi**"
      ],
      "metadata": {
        "id": "wjHBrfN-0CFS"
      }
    },
    {
      "cell_type": "code",
      "source": [
        "# Model KNN hasil Testing\n",
        "y_test = y_test.astype(int)\n",
        "\n",
        "y_pred_knn = knn_model.predict(X_test)\n",
        "\n",
        "# Evaluasi model dengan akurasi pada data Testing\n",
        "test_accuracy_knn = knn_model.score(X_test, y_test)\n",
        "print(f\"Akurasi Testing KNN: {test_accuracy_knn}\")"
      ],
      "metadata": {
        "colab": {
          "base_uri": "https://localhost:8080/"
        },
        "id": "G4wnt1173NtH",
        "outputId": "24cd59f7-b598-42d3-b8d9-ee99a6bc538f"
      },
      "execution_count": 61,
      "outputs": [
        {
          "output_type": "stream",
          "name": "stdout",
          "text": [
            "Akurasi Testing KNN: 0.9983192021813021\n"
          ]
        }
      ]
    },
    {
      "cell_type": "code",
      "source": [
        "# Model Decison tree hasil Training\n",
        "\n",
        "\n",
        "y_pred_dt = dt_model.predict(X_test)\n",
        "\n",
        "# Evaluasi model dengan akurasi pada data testing\n",
        "test_accuracy_dt = dt_model.score(X_test, y_test)\n",
        "print(f\"Akurasi Testing Decision Tree: {test_accuracy_dt}\")\n"
      ],
      "metadata": {
        "colab": {
          "base_uri": "https://localhost:8080/"
        },
        "id": "aQ3dh6Yp5R1I",
        "outputId": "17c5a36e-1558-4b0b-c6ce-6f1c8e8d4001"
      },
      "execution_count": 62,
      "outputs": [
        {
          "output_type": "stream",
          "name": "stdout",
          "text": [
            "Akurasi Testing Decision Tree: 0.9981324468681134\n"
          ]
        }
      ]
    },
    {
      "cell_type": "code",
      "source": [
        "# Model KNN hasil Testing\n",
        "y_test = y_test.astype(int)\n",
        "y_pred_knn = knn_model.predict(X_test)\n",
        "\n",
        "# Confusion Matrix dan F1-score untuk KNN\n",
        "cm_knn = confusion_matrix(y_test, y_pred_knn)\n",
        "f1_knn = f1_score(y_test, y_pred_knn, average='weighted')\n",
        "\n",
        "# Model Decision Tree hasil Testing\n",
        "y_pred_dt = dt_model.predict(X_test)\n",
        "\n",
        "# Confusion Matrix dan F1-score untuk Decision Tree\n",
        "cm_dt = confusion_matrix(y_test, y_pred_dt)\n",
        "f1_dt = f1_score(y_test, y_pred_dt, average='weighted')\n",
        "\n",
        "# Membuat dictionary untuk menyimpan hasil evaluasi\n",
        "evaluation_results = {\n",
        "    'KNN': {\n",
        "        'confusion_matrix': cm_knn,\n",
        "        'f1_score': f1_knn\n",
        "    },\n",
        "    'Decision Tree': {\n",
        "        'confusion_matrix': cm_dt,\n",
        "        'f1_score': f1_dt\n",
        "    }\n",
        "}\n",
        "\n",
        "print(evaluation_results)\n",
        "\n",
        "# Print classification reports for more detailed evaluation\n",
        "print(\"Classification Report for KNN:\\n\", classification_report(y_test, y_pred_knn))\n",
        "print(\"Classification Report for Decision Tree:\\n\", classification_report(y_test, y_pred_dt))\n"
      ],
      "metadata": {
        "colab": {
          "base_uri": "https://localhost:8080/"
        },
        "id": "112ewjMv51ix",
        "outputId": "60e29cb1-8803-49cf-b821-e97a8c6b0c58"
      },
      "execution_count": 63,
      "outputs": [
        {
          "output_type": "stream",
          "name": "stdout",
          "text": [
            "{'KNN': {'confusion_matrix': array([[    0,     0,     0,     0,     0,     0,     1,     0,     0,\n",
            "            0,     0,     0,     0,     0],\n",
            "       [    0,     0,     0,     0,     0,     0,     1,     0,     0,\n",
            "            0,     0,     0,     0,     0],\n",
            "       [    0,     1,     0,     0,     0,     0,     1,     0,     0,\n",
            "            0,     0,     0,     0,     0],\n",
            "       [    0,     0,     0,     0,     0,     1,     2,     0,     0,\n",
            "            0,     0,     0,     0,     0],\n",
            "       [    0,     0,     0,     0,     0,     0,     1,     0,     0,\n",
            "            0,     0,     0,     0,     0],\n",
            "       [    0,     0,     0,     0,     0,     1,    14,     0,     0,\n",
            "            0,     0,     0,     0,     0],\n",
            "       [    0,     0,     0,     0,     2,     0, 26703,     1,     0,\n",
            "            0,     0,     0,     0,     0],\n",
            "       [    0,     0,     0,     0,     0,     0,     9,    20,     0,\n",
            "            0,     0,     0,     0,     0],\n",
            "       [    0,     0,     0,     0,     0,     0,     2,     2,     2,\n",
            "            0,     0,     0,     0,     0],\n",
            "       [    0,     0,     0,     0,     0,     0,     2,     0,     0,\n",
            "            1,     0,     0,     0,     0],\n",
            "       [    0,     0,     0,     0,     0,     0,     0,     0,     2,\n",
            "            0,     0,     0,     0,     0],\n",
            "       [    0,     0,     0,     0,     0,     0,     0,     0,     1,\n",
            "            0,     0,     1,     0,     0],\n",
            "       [    0,     0,     0,     0,     0,     0,     0,     0,     0,\n",
            "            0,     1,     0,     0,     0],\n",
            "       [    0,     0,     0,     0,     0,     0,     0,     0,     0,\n",
            "            1,     0,     0,     0,     0]]), 'f1_score': 0.9979007826585536}, 'Decision Tree': {'confusion_matrix': array([[    0,     0,     0,     0,     0,     0,     1,     0,     0,\n",
            "            0,     0,     0,     0,     0],\n",
            "       [    0,     0,     0,     0,     0,     0,     1,     0,     0,\n",
            "            0,     0,     0,     0,     0],\n",
            "       [    0,     1,     0,     0,     0,     0,     1,     0,     0,\n",
            "            0,     0,     0,     0,     0],\n",
            "       [    0,     3,     0,     0,     0,     0,     0,     0,     0,\n",
            "            0,     0,     0,     0,     0],\n",
            "       [    0,     0,     0,     0,     0,     0,     1,     0,     0,\n",
            "            0,     0,     0,     0,     0],\n",
            "       [    0,     0,     0,     0,     0,     4,    10,     1,     0,\n",
            "            0,     0,     0,     0,     0],\n",
            "       [    0,     0,     0,     0,     0,     4, 26696,     6,     0,\n",
            "            0,     0,     0,     0,     0],\n",
            "       [    0,     0,     0,     0,     0,     0,     9,    19,     1,\n",
            "            0,     0,     0,     0,     0],\n",
            "       [    0,     0,     0,     0,     0,     0,     4,     0,     2,\n",
            "            0,     0,     0,     0,     0],\n",
            "       [    0,     0,     0,     0,     0,     0,     1,     1,     0,\n",
            "            0,     0,     1,     0,     0],\n",
            "       [    0,     0,     0,     0,     0,     0,     0,     0,     2,\n",
            "            0,     0,     0,     0,     0],\n",
            "       [    0,     0,     0,     0,     0,     0,     0,     0,     0,\n",
            "            0,     0,     2,     0,     0],\n",
            "       [    0,     0,     0,     0,     0,     0,     0,     0,     0,\n",
            "            0,     1,     0,     0,     0],\n",
            "       [    0,     0,     0,     0,     0,     0,     1,     0,     0,\n",
            "            0,     0,     0,     0,     0]]), 'f1_score': 0.9978405376719653}}\n",
            "Classification Report for KNN:\n",
            "               precision    recall  f1-score   support\n",
            "\n",
            "         -12       0.00      0.00      0.00         1\n",
            "          -5       0.00      0.00      0.00         1\n",
            "          -4       0.00      0.00      0.00         2\n",
            "          -3       0.00      0.00      0.00         3\n",
            "          -2       0.00      0.00      0.00         1\n",
            "          -1       0.50      0.07      0.12        15\n",
            "           0       1.00      1.00      1.00     26706\n",
            "           1       0.87      0.69      0.77        29\n",
            "           2       0.40      0.33      0.36         6\n",
            "           3       0.50      0.33      0.40         3\n",
            "           4       0.00      0.00      0.00         2\n",
            "           5       1.00      0.50      0.67         2\n",
            "           6       0.00      0.00      0.00         1\n",
            "          11       0.00      0.00      0.00         1\n",
            "\n",
            "    accuracy                           1.00     26773\n",
            "   macro avg       0.30      0.21      0.24     26773\n",
            "weighted avg       1.00      1.00      1.00     26773\n",
            "\n",
            "Classification Report for Decision Tree:\n",
            "               precision    recall  f1-score   support\n",
            "\n",
            "         -12       0.00      0.00      0.00         1\n",
            "          -5       0.00      0.00      0.00         1\n",
            "          -4       0.00      0.00      0.00         2\n",
            "          -3       0.00      0.00      0.00         3\n",
            "          -2       0.00      0.00      0.00         1\n",
            "          -1       0.50      0.27      0.35        15\n",
            "           0       1.00      1.00      1.00     26706\n",
            "           1       0.70      0.66      0.68        29\n",
            "           2       0.40      0.33      0.36         6\n",
            "           3       0.00      0.00      0.00         3\n",
            "           4       0.00      0.00      0.00         2\n",
            "           5       0.67      1.00      0.80         2\n",
            "           6       0.00      0.00      0.00         1\n",
            "          11       0.00      0.00      0.00         1\n",
            "\n",
            "    accuracy                           1.00     26773\n",
            "   macro avg       0.23      0.23      0.23     26773\n",
            "weighted avg       1.00      1.00      1.00     26773\n",
            "\n"
          ]
        },
        {
          "output_type": "stream",
          "name": "stderr",
          "text": [
            "/usr/local/lib/python3.11/dist-packages/sklearn/metrics/_classification.py:1565: UndefinedMetricWarning: Precision is ill-defined and being set to 0.0 in labels with no predicted samples. Use `zero_division` parameter to control this behavior.\n",
            "  _warn_prf(average, modifier, f\"{metric.capitalize()} is\", len(result))\n",
            "/usr/local/lib/python3.11/dist-packages/sklearn/metrics/_classification.py:1565: UndefinedMetricWarning: Precision is ill-defined and being set to 0.0 in labels with no predicted samples. Use `zero_division` parameter to control this behavior.\n",
            "  _warn_prf(average, modifier, f\"{metric.capitalize()} is\", len(result))\n",
            "/usr/local/lib/python3.11/dist-packages/sklearn/metrics/_classification.py:1565: UndefinedMetricWarning: Precision is ill-defined and being set to 0.0 in labels with no predicted samples. Use `zero_division` parameter to control this behavior.\n",
            "  _warn_prf(average, modifier, f\"{metric.capitalize()} is\", len(result))\n",
            "/usr/local/lib/python3.11/dist-packages/sklearn/metrics/_classification.py:1565: UndefinedMetricWarning: Precision is ill-defined and being set to 0.0 in labels with no predicted samples. Use `zero_division` parameter to control this behavior.\n",
            "  _warn_prf(average, modifier, f\"{metric.capitalize()} is\", len(result))\n",
            "/usr/local/lib/python3.11/dist-packages/sklearn/metrics/_classification.py:1565: UndefinedMetricWarning: Precision is ill-defined and being set to 0.0 in labels with no predicted samples. Use `zero_division` parameter to control this behavior.\n",
            "  _warn_prf(average, modifier, f\"{metric.capitalize()} is\", len(result))\n",
            "/usr/local/lib/python3.11/dist-packages/sklearn/metrics/_classification.py:1565: UndefinedMetricWarning: Precision is ill-defined and being set to 0.0 in labels with no predicted samples. Use `zero_division` parameter to control this behavior.\n",
            "  _warn_prf(average, modifier, f\"{metric.capitalize()} is\", len(result))\n"
          ]
        }
      ]
    },
    {
      "cell_type": "code",
      "source": [
        "plt.subplot(1, 2, 1)\n",
        "sns.heatmap(cm_knn, annot=True, fmt=\"d\", cmap=\"Blues\")\n",
        "plt.title(\"Confusion Matrix (KNN)\")\n",
        "plt.xlabel(\"Predicted\")\n",
        "plt.ylabel(\"Actual\")\n",
        "\n",
        "plt.subplot(1, 2, 2)\n",
        "sns.heatmap(cm_dt, annot=True, fmt=\"d\", cmap=\"Blues\")\n",
        "plt.title(\"Confusion Matrix (Decision Tree)\")\n",
        "plt.xlabel(\"Predicted\")\n",
        "plt.ylabel(\"Actual\")\n",
        "\n",
        "\n",
        "plt.tight_layout()\n",
        "plt.show()"
      ],
      "metadata": {
        "colab": {
          "base_uri": "https://localhost:8080/",
          "height": 507
        },
        "id": "LpsiwxA6-M1W",
        "outputId": "d9b45381-11d2-4c12-c641-da8c1723283d"
      },
      "execution_count": 71,
      "outputs": [
        {
          "output_type": "display_data",
          "data": {
            "text/plain": [
              "<Figure size 640x480 with 4 Axes>"
            ],
            "image/png": "[encoded data removed]"
          },
          "metadata": {}
        }
      ]
    },
    {
      "cell_type": "markdown",
      "source": [
        "## **e. Analisis Hasil Evaluasi Model Klasifikasi**"
      ],
      "metadata": {
        "id": "a_E9CIia3mId"
      }
    },
    {
      "cell_type": "markdown",
      "source": [
        "Berikut adalah **rekomendasi** tahapannya.\n",
        "1. Tuning Hyperparameter\n",
        "- Meskipun Decision Tree sudah menunjukkan performa yang baik, optimasi lebih lanjut terhadap hyperparameter seperti max_depth, min_samples_split, dan min_samples_leaf dapat dilakukan menggunakan GridSearchCV atau RandomizedSearchCV untuk meningkatkan akurasi.\n",
        "\n",
        "- Hal yang sama juga berlaku untuk model KNN dengan hyperparameter n_neighbors, yang dapat disesuaikan untuk meningkatkan performa model.\n",
        "\n",
        "2. Eksplorasi Model Lain\n",
        "- Pertimbangkan untuk menguji model lain seperti Random Forest, Support Vector Machine (SVM), atau Naïve Bayes untuk mengetahui apakah ada model yang lebih sesuai dengan data dan memberikan hasil yang lebih baik.\n",
        "\n",
        "3. Analisis Fitur\n",
        "- Lakukan analisis lebih lanjut terhadap fitur-fitur yang digunakan untuk mengidentifikasi apakah ada fitur yang kurang relevan atau redundan.\n",
        "\n",
        "- Penghapusan fitur yang tidak penting dapat meningkatkan performa model.\n",
        "\n",
        "- Teknik seperti Feature Importance pada Decision Tree atau analisis korelasi antar fitur dapat membantu dalam proses ini.\n",
        "\n",
        "4. Penanganan Ketidakseimbangan Data\n",
        "- Jika distribusi kelas pada data hasil clustering tidak seimbang (misalnya, ada kelas dengan jumlah sampel yang jauh lebih banyak dibandingkan kelas lainnya), gunakan teknik seperti oversampling (SMOTE) atau undersampling untuk meningkatkan performa model pada kelas minoritas.\n",
        "\n",
        "5. Validasi Silang (Cross-Validation)\n",
        "Gunakan metode cross-validation (misalnya, k-fold cross-validation) untuk mendapatkan estimasi performa model yang lebih stabil dan mengurangi variabilitas dalam hasil evaluasi.\n",
        "\n",
        "6. Evaluasi Metrik Lainnya\n",
        "\n",
        "- Selain akurasi dan F1-score, pertimbangkan metrik evaluasi lainnya seperti precision, recall, dan AUC-ROC.\n",
        "\n",
        "- Hal ini sangat penting jika terdapat ketidakseimbangan kelas, karena dapat memberikan gambaran performa model yang lebih komprehensif.\n",
        "\n"
      ],
      "metadata": {
        "id": "IiDZ0mrK4hwo"
      }
    }
  ]
}