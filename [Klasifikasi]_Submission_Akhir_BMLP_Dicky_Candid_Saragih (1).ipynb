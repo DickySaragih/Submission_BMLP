{
  "nbformat": 4,
  "nbformat_minor": 0,
  "metadata": {
    "colab": {
      "provenance": []
    },
    "kernelspec": {
      "name": "python3",
      "display_name": "Python 3"
    },
    "language_info": {
      "name": "python"
    }
  },
  "cells": [
    {
      "cell_type": "markdown",
      "source": [
        "# **1. Import Library**"
      ],
      "metadata": {
        "id": "Ero1ONJHydHM"
      }
    },
    {
      "cell_type": "code",
      "source": [
        "import pandas as pd\n",
        "import matplotlib.pyplot as plt\n",
        "import seaborn as sns\n",
        "from sklearn.model_selection import train_test_split\n",
        "from sklearn.neighbors import KNeighborsClassifier\n",
        "from sklearn.linear_model import LogisticRegression\n",
        "from sklearn.metrics import confusion_matrix, f1_score, accuracy_score, ConfusionMatrixDisplay\n"
      ],
      "metadata": {
        "id": "bEyBgkGUybwl"
      },
      "execution_count": 104,
      "outputs": []
    },
    {
      "cell_type": "markdown",
      "source": [
        "# **2. Memuat Dataset dari Hasil Clustering**"
      ],
      "metadata": {
        "id": "F7VHZHyqymd1"
      }
    },
    {
      "cell_type": "code",
      "source": [
        "url = 'https://raw.githubusercontent.com/DickySaragih/Submission_BMLP/refs/heads/main/Dataset_clustering.csv'\n",
        "df = pd.read_csv(url)"
      ],
      "metadata": {
        "id": "4E-RdTWLvdlh"
      },
      "execution_count": 105,
      "outputs": []
    },
    {
      "cell_type": "code",
      "source": [
        "# Menampilkan 5 data teratas\n",
        "print(\"Data Awal:\")\n",
        "print(df.head())\n",
        "\n",
        "# Preprocessing sebelum split\n",
        "if 'ID' in df.columns:\n",
        "    df = df.drop(columns=['ID'])\n",
        "df = pd.get_dummies(df)\n"
      ],
      "metadata": {
        "colab": {
          "base_uri": "https://localhost:8080/"
        },
        "id": "_J57olLsTBv5",
        "outputId": "cf8e6ca7-310f-472b-db9e-6cc69147b94e"
      },
      "execution_count": 132,
      "outputs": [
        {
          "output_type": "stream",
          "name": "stdout",
          "text": [
            "Data Awal:\n",
            "   TransactionAmount  CustomerAge  TransactionDuration  LoginAttempts  \\\n",
            "0              14.09           70                   81              1   \n",
            "1             376.24           68                  141              1   \n",
            "2             126.29           19                   56              1   \n",
            "3             184.50           26                   25              1   \n",
            "4              13.45           26                  198              1   \n",
            "\n",
            "   AccountBalance  Cluster  TransactionID_TX000001  TransactionID_TX000002  \\\n",
            "0         5112.21        0                    True                   False   \n",
            "1        13758.91        0                   False                    True   \n",
            "2         1122.35        1                   False                   False   \n",
            "3         8569.06        1                   False                   False   \n",
            "4         7429.40        1                   False                   False   \n",
            "\n",
            "   TransactionID_TX000003  TransactionID_TX000004  ...  \\\n",
            "0                   False                   False  ...   \n",
            "1                   False                   False  ...   \n",
            "2                    True                   False  ...   \n",
            "3                   False                    True  ...   \n",
            "4                   False                   False  ...   \n",
            "\n",
            "   PreviousTransactionDate_2024-11-04 08:12:14  \\\n",
            "0                                        False   \n",
            "1                                        False   \n",
            "2                                        False   \n",
            "3                                        False   \n",
            "4                                        False   \n",
            "\n",
            "   PreviousTransactionDate_2024-11-04 08:12:15  \\\n",
            "0                                        False   \n",
            "1                                        False   \n",
            "2                                        False   \n",
            "3                                        False   \n",
            "4                                        False   \n",
            "\n",
            "   PreviousTransactionDate_2024-11-04 08:12:16  \\\n",
            "0                                        False   \n",
            "1                                        False   \n",
            "2                                        False   \n",
            "3                                        False   \n",
            "4                                        False   \n",
            "\n",
            "   PreviousTransactionDate_2024-11-04 08:12:17  \\\n",
            "0                                        False   \n",
            "1                                        False   \n",
            "2                                        False   \n",
            "3                                        False   \n",
            "4                                        False   \n",
            "\n",
            "   PreviousTransactionDate_2024-11-04 08:12:18  \\\n",
            "0                                        False   \n",
            "1                                        False   \n",
            "2                                        False   \n",
            "3                                        False   \n",
            "4                                        False   \n",
            "\n",
            "   PreviousTransactionDate_2024-11-04 08:12:19  \\\n",
            "0                                        False   \n",
            "1                                        False   \n",
            "2                                        False   \n",
            "3                                        False   \n",
            "4                                        False   \n",
            "\n",
            "   PreviousTransactionDate_2024-11-04 08:12:20  \\\n",
            "0                                        False   \n",
            "1                                        False   \n",
            "2                                        False   \n",
            "3                                        False   \n",
            "4                                        False   \n",
            "\n",
            "   PreviousTransactionDate_2024-11-04 08:12:21  \\\n",
            "0                                        False   \n",
            "1                                        False   \n",
            "2                                        False   \n",
            "3                                        False   \n",
            "4                                        False   \n",
            "\n",
            "   PreviousTransactionDate_2024-11-04 08:12:22  \\\n",
            "0                                        False   \n",
            "1                                        False   \n",
            "2                                        False   \n",
            "3                                        False   \n",
            "4                                        False   \n",
            "\n",
            "   PreviousTransactionDate_2024-11-04 08:12:23  \n",
            "0                                        False  \n",
            "1                                        False  \n",
            "2                                        False  \n",
            "3                                        False  \n",
            "4                                        False  \n",
            "\n",
            "[5 rows x 7310 columns]\n"
          ]
        }
      ]
    },
    {
      "cell_type": "markdown",
      "source": [
        "# **3. Data splitting**"
      ],
      "metadata": {
        "id": "rJGnR1QpPjBw"
      }
    },
    {
      "cell_type": "code",
      "source": [
        "# Splitting data (80% training, 20% testing)\n",
        "x = df.drop(columns=[\"Cluster\"])\n",
        "y = df[\"Cluster\"]\n",
        "\n",
        "X_train, X_test, y_train, y_test = train_test_split(x, y, test_size=0.2, random_state=42, stratify=y)\n",
        "\n",
        "print(\"\\nJumlah data training:\", len(X_train))\n",
        "print(\"Jumlah data testing:\", len(X_test))\n"
      ],
      "metadata": {
        "colab": {
          "base_uri": "https://localhost:8080/"
        },
        "id": "l5r_mrObSd74",
        "outputId": "d2657d6d-258a-42c1-f53f-62aa900f38d1"
      },
      "execution_count": 107,
      "outputs": [
        {
          "output_type": "stream",
          "name": "stdout",
          "text": [
            "\n",
            "Jumlah data training: 2009\n",
            "Jumlah data testing: 503\n"
          ]
        }
      ]
    },
    {
      "cell_type": "markdown",
      "source": [
        "# **4. Membangun Model Klasifikasi**\n"
      ],
      "metadata": {
        "id": "XGrWhG8xy43O"
      }
    },
    {
      "cell_type": "markdown",
      "source": [
        "## **a. Membangun Model Klasifikasi**\n",
        "1. K-Nearest Neighbors (KNN)\n",
        "2. Logistic regresion"
      ],
      "metadata": {
        "id": "BsMTf5RlziRM"
      }
    },
    {
      "cell_type": "code",
      "source": [
        "# Melatih Model KNN data training\n",
        "knn_model = KNeighborsClassifier(n_neighbors=2)\n",
        "knn_model.fit(X_train, y_train)\n",
        "\n",
        "y_train_pred = knn_model.predict(X_train)\n",
        "\n",
        "accuracy_train = accuracy_score(y_train, y_train_pred)\n",
        "f1_train = f1_score(y_train, y_train_pred, average='weighted')\n",
        "conf_matrix_train = confusion_matrix(y_train,y_train_pred)\n",
        "\n",
        "\n",
        "print(\"\\nEvaluasi Model KNN pada Data Training:\")\n",
        "print(f\"Akurasi: {accuracy_train}\")\n",
        "print(f\"F1-score: {f1_train}\")\n",
        "print(f\"Confusion Matrix:\\n{conf_matrix_train}\")\n"
      ],
      "metadata": {
        "colab": {
          "base_uri": "https://localhost:8080/"
        },
        "id": "xfktHrUwVEK_",
        "outputId": "b0af31d9-00c3-499d-f6a2-c8e6eb01a0ed"
      },
      "execution_count": 124,
      "outputs": [
        {
          "output_type": "stream",
          "name": "stdout",
          "text": [
            "\n",
            "Evaluasi Model KNN pada Data Training:\n",
            "Akurasi: 0.8795420607267297\n",
            "F1-score: 0.8611004872235829\n",
            "Confusion Matrix:\n",
            "[[1270    0    0]\n",
            " [ 169  494    0]\n",
            " [  47   26    3]]\n"
          ]
        }
      ]
    },
    {
      "cell_type": "code",
      "source": [
        "\n",
        "# Melatih Model Logistic Regression data training\n",
        "logreg_model = LogisticRegression(random_state=42)\n",
        "\n",
        "logreg_model.fit(X_train, y_train)\n",
        "\n",
        "y_train_pred_logreg = logreg_model.predict(X_train)\n",
        "\n",
        "accuracy_train_logreg = accuracy_score(y_train, y_train_pred_logreg)\n",
        "f1_train_logreg = f1_score(y_train, y_train_pred_logreg, average='weighted')\n",
        "conf_matrix_train_logreg = confusion_matrix(y_train, y_train_pred_logreg)\n",
        "\n",
        "print(\"\\nEvaluasi Model Logistic Regression pada Data Training:\")\n",
        "print(f\"Akurasi: {accuracy_train_logreg}\")\n",
        "print(f\"F1-score: {f1_train_logreg}\")\n",
        "print(f\"Confusion Matrix:\\n{conf_matrix_train_logreg}\")\n"
      ],
      "metadata": {
        "colab": {
          "base_uri": "https://localhost:8080/"
        },
        "id": "iGb8GvNpVUF8",
        "outputId": "52844766-239c-4cad-9882-966918772397"
      },
      "execution_count": 128,
      "outputs": [
        {
          "output_type": "stream",
          "name": "stderr",
          "text": [
            "/usr/local/lib/python3.11/dist-packages/sklearn/linear_model/_logistic.py:465: ConvergenceWarning: lbfgs failed to converge (status=1):\n",
            "STOP: TOTAL NO. of ITERATIONS REACHED LIMIT.\n",
            "\n",
            "Increase the number of iterations (max_iter) or scale the data as shown in:\n",
            "    https://scikit-learn.org/stable/modules/preprocessing.html\n",
            "Please also refer to the documentation for alternative solver options:\n",
            "    https://scikit-learn.org/stable/modules/linear_model.html#logistic-regression\n",
            "  n_iter_i = _check_optimize_result(\n"
          ]
        },
        {
          "output_type": "stream",
          "name": "stdout",
          "text": [
            "\n",
            "Evaluasi Model Logistic Regression pada Data Training:\n",
            "Akurasi: 0.8073668491786958\n",
            "F1-score: 0.7845861550181347\n",
            "Confusion Matrix:\n",
            "[[1208   62    0]\n",
            " [ 249  414    0]\n",
            " [  60   16    0]]\n"
          ]
        }
      ]
    },
    {
      "cell_type": "markdown",
      "source": [
        "## **b. Evaluasi Model Klasifikasi**"
      ],
      "metadata": {
        "id": "wjHBrfN-0CFS"
      }
    },
    {
      "cell_type": "code",
      "source": [
        "# Melatih Model logistic Regresion data testing\n",
        "y_pred_logreg = logreg_model.predict(X_test)\n",
        "\n",
        "accuracy_test_logreg = accuracy_score(y_test, y_pred_logreg)\n",
        "f1_test_logreg = f1_score(y_test, y_pred_logreg, average='weighted')\n",
        "conf_matrix_test_logreg = confusion_matrix(y_test, y_pred_logreg)\n",
        "\n",
        "print(\"\\nEvaluasi Model Logistic Regression pada Data Testing:\")\n",
        "print(f\"Akurasi: {accuracy_test_logreg}\")\n",
        "print(f\"F1-score: {f1_test_logreg}\")\n",
        "print(f\"Confusion Matrix:\\n{conf_matrix_test_logreg}\")\n"
      ],
      "metadata": {
        "colab": {
          "base_uri": "https://localhost:8080/"
        },
        "id": "G4wnt1173NtH",
        "outputId": "af929d7d-1460-4d51-efeb-ed8ddc0218b9"
      },
      "execution_count": 129,
      "outputs": [
        {
          "output_type": "stream",
          "name": "stdout",
          "text": [
            "\n",
            "Evaluasi Model Logistic Regression pada Data Testing:\n",
            "Akurasi: 0.8011928429423459\n",
            "F1-score: 0.7794369559617002\n",
            "Confusion Matrix:\n",
            "[[298  20   0]\n",
            " [ 61 105   0]\n",
            " [ 12   7   0]]\n"
          ]
        }
      ]
    },
    {
      "cell_type": "code",
      "source": [
        "# Melatih Model KNN data testing\n",
        "y_pred_knn = knn_model.predict(X_test)\n",
        "\n",
        "# Evaluasi model pada data testing\n",
        "accuracy_test_knn = accuracy_score(y_test, y_pred_knn)\n",
        "f1_test_knn = f1_score(y_test, y_pred_knn, average='weighted')\n",
        "conf_matrix_test_knn = confusion_matrix(y_test, y_pred_knn)\n",
        "\n",
        "print(\"\\nEvaluasi Model KNN pada Data Testing:\")\n",
        "print(f\"Akurasi: {accuracy_test_knn}\")\n",
        "print(f\"F1-score: {f1_test_knn}\")\n",
        "print(f\"Confusion Matrix:\\n{conf_matrix_test_knn}\")\n"
      ],
      "metadata": {
        "colab": {
          "base_uri": "https://localhost:8080/"
        },
        "id": "aQ3dh6Yp5R1I",
        "outputId": "95cb39bd-3a64-43e8-f79c-8612c1390d0d"
      },
      "execution_count": 130,
      "outputs": [
        {
          "output_type": "stream",
          "name": "stdout",
          "text": [
            "\n",
            "Evaluasi Model KNN pada Data Testing:\n",
            "Akurasi: 0.8011928429423459\n",
            "F1-score: 0.7805862411081539\n",
            "Confusion Matrix:\n",
            "[[295  23   0]\n",
            " [ 58 108   0]\n",
            " [ 13   6   0]]\n"
          ]
        }
      ]
    },
    {
      "cell_type": "code",
      "source": [
        "# Visualisasi Confusion Matrix untuk Logistic Regression\n",
        "plt.figure(figsize=(8, 6))\n",
        "sns.heatmap(conf_matrix_test_logreg, annot=True, fmt=\"d\", cmap=\"Blues\",\n",
        "            xticklabels=logreg_model.classes_, yticklabels=logreg_model.classes_)\n",
        "plt.title(\"Confusion Matrix - Logistic Regression (Testing Data)\")\n",
        "plt.xlabel(\"Predicted Label\")\n",
        "plt.ylabel(\"True Label\")\n",
        "plt.show()\n",
        "\n",
        "# Visualisasi Confusion Matrix untuk KNN\n",
        "plt.figure(figsize=(8, 6))\n",
        "sns.heatmap(conf_matrix_test_knn, annot=True, fmt=\"d\", cmap=\"Greens\",\n",
        "            xticklabels=knn_model.classes_, yticklabels=knn_model.classes_)\n",
        "plt.title(\"Confusion Matrix - KNN (Testing Data)\")\n",
        "plt.xlabel(\"Predicted Label\")\n",
        "plt.ylabel(\"True Label\")\n",
        "plt.show()\n"
      ],
      "metadata": {
        "colab": {
          "base_uri": "https://localhost:8080/",
          "height": 1000
        },
        "id": "EmqqPeD6Zkhq",
        "outputId": "42e61ed7-39cb-40d0-92cc-bd88f8e4faae"
      },
      "execution_count": 131,
      "outputs": [
        {
          "output_type": "display_data",
          "data": {
            "text/plain": [
              "<Figure size 800x600 with 2 Axes>"
            ],
            "image/png": "[encoded data removed]"
          },
          "metadata": {}
        },
        {
          "output_type": "display_data",
          "data": {
            "text/plain": [
              "<Figure size 800x600 with 2 Axes>"
            ],
            "image/png": "[encoded data removed]"
          },
          "metadata": {}
        }
      ]
    },
    {
      "cell_type": "markdown",
      "source": [
        "## **e. Analisis Hasil Evaluasi Model Klasifikasi**"
      ],
      "metadata": {
        "id": "a_E9CIia3mId"
      }
    },
    {
      "cell_type": "markdown",
      "source": [
        "**Kesimpulan:**\n",
        "- Berdasarkan hasil pengujian terhadap model Logistic Regression dan K-Nearest Neighbors (KNN), keduanya menunjukkan performa yang cukup baik dalam mengklasifikasikan data. Model Logistic Regression memiliki keunggulan dengan nilai akurasi dan F1-score yang sedikit lebih tinggi dibandingkan KNN pada data pengujian, meskipun selisihnya tidak terlalu signifikan. Visualisasi confusion matrix juga memberikan gambaran yang jelas mengenai jumlah prediksi yang benar dan salah pada masing-masing kelas, yang membantu dalam menganalisis efektivitas model secara lebih mendalam.\n",
        "\n",
        "**Rekomendasi:**\n",
        "\n",
        "1. Optimasi Parameter Model:\n",
        "- Lakukan tuning parameter untuk model Logistic Regression dan KNN.\n",
        "- Gunakan teknik seperti GridSearchCV atau RandomizedSearchCV untuk mencari parameter terbaik yang dapat meningkatkan performa model.\n",
        "- Contoh: Untuk KNN, optimalkan nilai 'n_neighbors', dan untuk Logistic Regression, eksplorasi parameter seperti 'C', 'penalty', dan 'solver'.\n",
        "\n",
        "2. Eksplorasi Model Lain:\n",
        "- Coba model klasifikasi lain seperti Support Vector Machine (SVM), Decision Tree, Random Forest, atau Naive Bayes.\n",
        "- Bandingkan kinerja model-model tersebut dengan Logistic Regression dan KNN untuk menemukan model terbaik.\n",
        "\n",
        "3. Feature Engineering:\n",
        "- Lakukan analisis lebih lanjut terhadap fitur-fitur yang ada.\n",
        "- Pertimbangkan untuk membuat fitur baru atau mengubah representasi fitur yang ada untuk meningkatkan kinerja model.\n",
        "- Teknik seperti Principal Component Analysis (PCA) dapat digunakan untuk reduksi dimensi jika terdapat banyak fitur.\n",
        "\n",
        "4. Cross-Validation:\n",
        "- Gunakan cross-validation (misalnya, k-fold cross-validation) untuk mendapatkan estimasi kinerja model yang lebih akurat dan robust.\n",
        "- Hal ini membantu menghindari overfitting dan memberikan gambaran yang lebih baik tentang generalisasi model pada data yang belum terlihat.\n",
        "\n",
        "5. Evaluasi Metrik Tambahan:\n",
        "- Gunakan metrik evaluasi tambahan seperti precision, recall, dan AUC-ROC untuk memberikan pemahaman yang lebih komprehensif tentang kinerja model.\n",
        "- Khususnya pada kasus data imbalance, perhatikan precision dan recall untuk masing-masing kelas.\n",
        "\n"
      ],
      "metadata": {
        "id": "IiDZ0mrK4hwo"
      }
    }
  ]
}