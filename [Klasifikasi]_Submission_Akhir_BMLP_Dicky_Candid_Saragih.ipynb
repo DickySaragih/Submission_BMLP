{
  "nbformat": 4,
  "nbformat_minor": 0,
  "metadata": {
    "colab": {
      "provenance": []
    },
    "kernelspec": {
      "name": "python3",
      "display_name": "Python 3"
    },
    "language_info": {
      "name": "python"
    }
  },
  "cells": [
    {
      "cell_type": "markdown",
      "source": [
        "# **1. Import Library**"
      ],
      "metadata": {
        "id": "Ero1ONJHydHM"
      }
    },
    {
      "cell_type": "code",
      "source": [
        "import pandas as pd\n",
        "import numpy as np\n",
        "import matplotlib.pyplot as plt\n",
        "import seaborn as sns\n",
        "from sklearn.model_selection import train_test_split\n",
        "from sklearn.neighbors import KNeighborsClassifier\n",
        "from sklearn.tree import DecisionTreeClassifier\n",
        "from sklearn.metrics import silhouette_score, confusion_matrix, f1_score\n",
        "from sklearn.model_selection import RandomizedSearchCV\n",
        "from sklearn.model_selection import GridSearchCV\n"
      ],
      "metadata": {
        "id": "bEyBgkGUybwl"
      },
      "execution_count": 68,
      "outputs": []
    },
    {
      "cell_type": "markdown",
      "source": [
        "# **2. Memuat Dataset dari Hasil Clustering**"
      ],
      "metadata": {
        "id": "F7VHZHyqymd1"
      }
    },
    {
      "cell_type": "code",
      "source": [
        "url = 'https://raw.githubusercontent.com/DickySaragih/Submission_BMLP/refs/heads/main/Dataset_clustering.csv'\n",
        "df = pd.read_csv(url)"
      ],
      "metadata": {
        "id": "4E-RdTWLvdlh"
      },
      "execution_count": 80,
      "outputs": []
    },
    {
      "cell_type": "code",
      "source": [
        "X = df.iloc[:, :-1]\n",
        "y = df.iloc[:, -1]"
      ],
      "metadata": {
        "id": "O-bWSmhgvnzf"
      },
      "execution_count": 81,
      "outputs": []
    },
    {
      "cell_type": "code",
      "source": [
        "print(X.head())\n",
        "print(X.info())\n",
        "print(X.describe())\n",
        "print(y.value_counts())\n"
      ],
      "metadata": {
        "colab": {
          "base_uri": "https://localhost:8080/"
        },
        "id": "-Wk5b7VOvtGt",
        "outputId": "463cb047-95bd-4710-a94d-e5ac988b8d88"
      },
      "execution_count": 71,
      "outputs": [
        {
          "output_type": "stream",
          "name": "stdout",
          "text": [
            "       2020      2021      2022      2023\n",
            "0  0.204064  0.218561  0.219695  0.207974\n",
            "1  0.204135  0.218617  0.219718  0.208037\n",
            "2  0.204310  0.218836  0.219974  0.208255\n",
            "3  0.204526  0.218847  0.220121  0.208273\n",
            "4  0.204093  0.218562  0.219696  0.207978\n",
            "<class 'pandas.core.frame.DataFrame'>\n",
            "RangeIndex: 71394 entries, 0 to 71393\n",
            "Data columns (total 4 columns):\n",
            " #   Column  Non-Null Count  Dtype  \n",
            "---  ------  --------------  -----  \n",
            " 0   2020    71394 non-null  float64\n",
            " 1   2021    71394 non-null  float64\n",
            " 2   2022    71394 non-null  float64\n",
            " 3   2023    71394 non-null  float64\n",
            "dtypes: float64(4)\n",
            "memory usage: 2.2 MB\n",
            "None\n",
            "               2020          2021          2022          2023\n",
            "count  71394.000000  71394.000000  71394.000000  71394.000000\n",
            "mean       0.204628      0.219168      0.220250      0.208466\n",
            "std        0.007262      0.007437      0.007007      0.006798\n",
            "min        0.059854      0.000000      0.041118      0.081912\n",
            "25%        0.204064      0.218561      0.219695      0.207974\n",
            "50%        0.204068      0.218564      0.219698      0.207978\n",
            "75%        0.204155      0.218659      0.219790      0.208030\n",
            "max        1.000000      0.978484      0.950302      0.923788\n",
            "Cluster\n",
            "0    71215\n",
            "2      172\n",
            "1        7\n",
            "Name: count, dtype: int64\n"
          ]
        }
      ]
    },
    {
      "cell_type": "markdown",
      "source": [
        "# **3. Data Splitting**"
      ],
      "metadata": {
        "id": "JrCq8sIsyyab"
      }
    },
    {
      "cell_type": "code",
      "source": [
        "X_train, X_test, y_train, y_test = train_test_split(X, y, test_size=0.3, random_state=42)\n"
      ],
      "metadata": {
        "id": "DUW2etyzvqXG"
      },
      "execution_count": 72,
      "outputs": []
    },
    {
      "cell_type": "markdown",
      "source": [
        "# **4. Membangun Model Klasifikasi**\n"
      ],
      "metadata": {
        "id": "XGrWhG8xy43O"
      }
    },
    {
      "cell_type": "markdown",
      "source": [
        "## **a. Membangun Model Klasifikasi**\n",
        "1. K-Nearest Neighbors (KNN)\n",
        "2. Decision Tree"
      ],
      "metadata": {
        "id": "BsMTf5RlziRM"
      }
    },
    {
      "cell_type": "code",
      "source": [
        "# K-Nearest Neighbors\n",
        "knn = KNeighborsClassifier()\n",
        "\n",
        "param_grid_knn = {\n",
        "    'n_neighbors': [3, 5, 7, 9],\n",
        "    'weights': ['uniform', 'distance'],\n",
        "    'metric': ['euclidean', 'manhattan']\n",
        "}\n",
        "\n",
        "\n",
        "grid_search_knn = GridSearchCV(knn, param_grid_knn, cv=5, scoring='f1_macro') # Use f1_macro for multi-class\n",
        "grid_search_knn.fit(X_train, y_train)\n",
        "\n",
        "best_knn = grid_search_knn.best_estimator_\n",
        "y_pred_knn = best_knn.predict(X_test)\n",
        "\n",
        "\n",
        "knn_f1 = f1_score(y_test, y_pred_knn, average='macro') # Use macro for multi-class\n",
        "knn_cm = confusion_matrix(y_test, y_pred_knn)\n",
        "print(f\"KNN F1 Score: {knn_f1}\")\n",
        "print(f\"KNN Confusion Matrix:\\n{knn_cm}\")\n",
        "\n",
        "print(\"Best parameters for KNN:\", grid_search_knn.best_params_)\n"
      ],
      "metadata": {
        "colab": {
          "base_uri": "https://localhost:8080/"
        },
        "id": "8H9U-bF2wxtU",
        "outputId": "757af61b-27d9-4e73-d9f2-4c45daef40ce"
      },
      "execution_count": 73,
      "outputs": [
        {
          "output_type": "stream",
          "name": "stderr",
          "text": [
            "/usr/local/lib/python3.11/dist-packages/sklearn/model_selection/_split.py:805: UserWarning: The least populated class in y has only 4 members, which is less than n_splits=5.\n",
            "  warnings.warn(\n"
          ]
        },
        {
          "output_type": "stream",
          "name": "stdout",
          "text": [
            "KNN F1 Score: 0.9944288360283865\n",
            "KNN Confusion Matrix:\n",
            "[[21355     0     2]\n",
            " [    0     3     0]\n",
            " [    0     0    59]]\n",
            "Best parameters for KNN: {'metric': 'euclidean', 'n_neighbors': 3, 'weights': 'uniform'}\n"
          ]
        }
      ]
    },
    {
      "cell_type": "code",
      "source": [
        "# Decision Tree\n",
        "dt = DecisionTreeClassifier(random_state=42)\n",
        "\n",
        "param_grid_dt = {\n",
        "    'max_depth': [None, 10, 20, 30],\n",
        "    'min_samples_leaf': [1, 2, 4]\n",
        "}\n",
        "\n",
        "grid_search_dt = GridSearchCV(dt, param_grid_dt, cv=5, scoring='f1_macro')\n",
        "\n",
        "grid_search_dt.fit(X_train, y_train)\n",
        "\n",
        "best_dt = grid_search_dt.best_estimator_\n",
        "y_pred_dt = best_dt.predict(X_test)\n",
        "\n",
        "dt_f1 = f1_score(y_test, y_pred_dt, average='macro')\n",
        "dt_cm = confusion_matrix(y_test, y_pred_dt)\n",
        "print(f\"Decision Tree F1 Score: {dt_f1}\")\n",
        "print(f\"Decision Tree Confusion Matrix:\\n{dt_cm}\")\n",
        "\n",
        "print(\"Best parameters for Decision Tree:\", grid_search_dt.best_params_)"
      ],
      "metadata": {
        "colab": {
          "base_uri": "https://localhost:8080/"
        },
        "id": "1kW5zihL0zSg",
        "outputId": "540caf28-6427-4f81-ebb8-6d300866ec85"
      },
      "execution_count": 74,
      "outputs": [
        {
          "output_type": "stream",
          "name": "stderr",
          "text": [
            "/usr/local/lib/python3.11/dist-packages/sklearn/model_selection/_split.py:805: UserWarning: The least populated class in y has only 4 members, which is less than n_splits=5.\n",
            "  warnings.warn(\n"
          ]
        },
        {
          "output_type": "stream",
          "name": "stdout",
          "text": [
            "Decision Tree F1 Score: 0.9886693496013029\n",
            "Decision Tree Confusion Matrix:\n",
            "[[21355     0     2]\n",
            " [    0     3     0]\n",
            " [    2     0    57]]\n",
            "Best parameters for Decision Tree: {'max_depth': None, 'min_samples_leaf': 1}\n"
          ]
        }
      ]
    },
    {
      "cell_type": "markdown",
      "source": [
        "## **b. Evaluasi Model Klasifikasi**"
      ],
      "metadata": {
        "id": "wjHBrfN-0CFS"
      }
    },
    {
      "cell_type": "code",
      "source": [
        "plt.figure(figsize=(8, 6))\n",
        "sns.heatmap(knn_cm, annot=True, fmt=\"d\", cmap=\"Blues\",\n",
        "            xticklabels=np.unique(y), yticklabels=np.unique(y))\n",
        "plt.title(\"Confusion Matrix for KNN\")\n",
        "plt.xlabel(\"Predicted Labels\")\n",
        "plt.ylabel(\"True Labels\")\n",
        "plt.show()\n",
        "\n",
        "\n"
      ],
      "metadata": {
        "colab": {
          "base_uri": "https://localhost:8080/",
          "height": 534
        },
        "id": "-G1iRy770E9E",
        "outputId": "ffb57fe6-9b48-4a32-f6fa-1d844fdcfa35"
      },
      "execution_count": 75,
      "outputs": [
        {
          "output_type": "display_data",
          "data": {
            "text/plain": [
              "<Figure size 800x600 with 2 Axes>"
            ],
            "image/png": "[encoded data removed]"
          },
          "metadata": {}
        }
      ]
    },
    {
      "cell_type": "code",
      "source": [
        "plt.figure(figsize=(8, 6))\n",
        "sns.heatmap(dt_cm, annot=True, fmt=\"d\", cmap=\"Blues\",\n",
        "            xticklabels=np.unique(y), yticklabels=np.unique(y))\n",
        "plt.title(\"Confusion Matrix for Decision Tree\")\n",
        "plt.xlabel(\"Predicted Labels\")\n",
        "plt.ylabel(\"True Labels\")\n",
        "plt.show()"
      ],
      "metadata": {
        "colab": {
          "base_uri": "https://localhost:8080/",
          "height": 534
        },
        "id": "dznIV7Tk195C",
        "outputId": "806f924a-94b2-48bb-d83f-2093363c039e"
      },
      "execution_count": 76,
      "outputs": [
        {
          "output_type": "display_data",
          "data": {
            "text/plain": [
              "<Figure size 800x600 with 2 Axes>"
            ],
            "image/png": "[encoded data removed]"
          },
          "metadata": {}
        }
      ]
    },
    {
      "cell_type": "markdown",
      "source": [
        "## **c. Tuning Model Klasifikasi (Optional)**"
      ],
      "metadata": {
        "id": "m1Ca4gX72A7i"
      }
    },
    {
      "cell_type": "code",
      "source": [
        "# RandomizedSearchCV for KNN\n",
        "random_search_knn = RandomizedSearchCV(knn, param_grid_knn, n_iter=10, cv=5, scoring='f1_macro', random_state=42)\n",
        "random_search_knn.fit(X_train, y_train)\n",
        "\n",
        "best_random_knn = random_search_knn.best_estimator_\n",
        "y_pred_random_knn = best_random_knn.predict(X_test)\n",
        "\n",
        "random_knn_f1 = f1_score(y_test, y_pred_random_knn, average='macro')\n",
        "random_knn_cm = confusion_matrix(y_test, y_pred_random_knn)\n",
        "\n",
        "print(f\"RandomizedSearchCV KNN F1 Score: {random_knn_f1}\")\n",
        "print(f\"RandomizedSearchCV KNN Confusion Matrix:\\n{random_knn_cm}\")\n",
        "print(\"Best parameters for RandomizedSearchCV KNN:\", random_search_knn.best_params_)\n",
        "\n",
        "\n"
      ],
      "metadata": {
        "colab": {
          "base_uri": "https://localhost:8080/"
        },
        "id": "29ATS3bN2KPP",
        "outputId": "1de8f9f1-16cb-4c00-b87b-9ca9b1700f3f"
      },
      "execution_count": 77,
      "outputs": [
        {
          "output_type": "stream",
          "name": "stderr",
          "text": [
            "/usr/local/lib/python3.11/dist-packages/sklearn/model_selection/_split.py:805: UserWarning: The least populated class in y has only 4 members, which is less than n_splits=5.\n",
            "  warnings.warn(\n"
          ]
        },
        {
          "output_type": "stream",
          "name": "stdout",
          "text": [
            "RandomizedSearchCV KNN F1 Score: 0.9944288360283865\n",
            "RandomizedSearchCV KNN Confusion Matrix:\n",
            "[[21355     0     2]\n",
            " [    0     3     0]\n",
            " [    0     0    59]]\n",
            "Best parameters for RandomizedSearchCV KNN: {'weights': 'uniform', 'n_neighbors': 3, 'metric': 'euclidean'}\n"
          ]
        },
        {
          "output_type": "stream",
          "name": "stderr",
          "text": [
            "/usr/local/lib/python3.11/dist-packages/sklearn/model_selection/_split.py:805: UserWarning: The least populated class in y has only 4 members, which is less than n_splits=5.\n",
            "  warnings.warn(\n"
          ]
        },
        {
          "output_type": "stream",
          "name": "stdout",
          "text": [
            "RandomizedSearchCV Decision Tree F1 Score: 0.9886693496013029\n",
            "RandomizedSearchCV Decision Tree Confusion Matrix:\n",
            "[[21355     0     2]\n",
            " [    0     3     0]\n",
            " [    2     0    57]]\n",
            "Best parameters for RandomizedSearchCV Decision Tree: {'min_samples_leaf': 1, 'max_depth': 30}\n"
          ]
        }
      ]
    },
    {
      "cell_type": "code",
      "source": [
        "# RandomizedSearchCV for Decision Tree\n",
        "random_search_dt = RandomizedSearchCV(dt, param_grid_dt, n_iter=10, cv=5, scoring='f1_macro', random_state=42)\n",
        "random_search_dt.fit(X_train, y_train)\n",
        "\n",
        "best_random_dt = random_search_dt.best_estimator_\n",
        "y_pred_random_dt = best_random_dt.predict(X_test)\n",
        "\n",
        "random_dt_f1 = f1_score(y_test, y_pred_random_dt, average='macro')\n",
        "random_dt_cm = confusion_matrix(y_test, y_pred_random_dt)\n",
        "\n",
        "print(f\"RandomizedSearchCV Decision Tree F1 Score: {random_dt_f1}\")\n",
        "print(f\"RandomizedSearchCV Decision Tree Confusion Matrix:\\n{random_dt_cm}\")\n",
        "print(\"Best parameters for RandomizedSearchCV Decision Tree:\", random_search_dt.best_params_)\n"
      ],
      "metadata": {
        "colab": {
          "base_uri": "https://localhost:8080/"
        },
        "id": "D3yCFejO8xQF",
        "outputId": "5031a5a3-11c3-4c19-b785-a9803eea93fe"
      },
      "execution_count": 78,
      "outputs": [
        {
          "output_type": "stream",
          "name": "stderr",
          "text": [
            "/usr/local/lib/python3.11/dist-packages/sklearn/model_selection/_split.py:805: UserWarning: The least populated class in y has only 4 members, which is less than n_splits=5.\n",
            "  warnings.warn(\n"
          ]
        },
        {
          "output_type": "stream",
          "name": "stdout",
          "text": [
            "RandomizedSearchCV Decision Tree F1 Score: 0.9886693496013029\n",
            "RandomizedSearchCV Decision Tree Confusion Matrix:\n",
            "[[21355     0     2]\n",
            " [    0     3     0]\n",
            " [    2     0    57]]\n",
            "Best parameters for RandomizedSearchCV Decision Tree: {'min_samples_leaf': 1, 'max_depth': 30}\n"
          ]
        }
      ]
    },
    {
      "cell_type": "markdown",
      "source": [
        "## **d. Evaluasi Model Klasifikasi setelah Tuning (Optional)**"
      ],
      "metadata": {
        "id": "-pGsMHN-8zZu"
      }
    },
    {
      "cell_type": "code",
      "source": [
        "# prompt: lakukan perbandingan pada proses data latih dan data uji untuk kedua model tersebut\n",
        "\n",
        "print(\"KNN Performance on Training Data:\")\n",
        "y_pred_knn_train = best_knn.predict(X_train)\n",
        "knn_train_f1 = f1_score(y_train, y_pred_knn_train, average='macro')\n",
        "knn_train_cm = confusion_matrix(y_train, y_pred_knn_train)\n",
        "print(f\"KNN Training F1 Score: {knn_train_f1}\")\n",
        "print(f\"KNN Training Confusion Matrix:\\n{knn_train_cm}\")\n",
        "\n",
        "print(\"\\nDecision Tree Performance on Training Data:\")\n",
        "y_pred_dt_train = best_dt.predict(X_train)\n",
        "dt_train_f1 = f1_score(y_train, y_pred_dt_train, average='macro')\n",
        "dt_train_cm = confusion_matrix(y_train, y_pred_dt_train)\n",
        "print(f\"Decision Tree Training F1 Score: {dt_train_f1}\")\n",
        "print(f\"Decision Tree Training Confusion Matrix:\\n{dt_train_cm}\")\n",
        "\n",
        "print(\"\\nKNN Performance Comparison:\")\n",
        "print(f\"Training F1 Score: {knn_train_f1:.4f}, Testing F1 Score: {knn_f1:.4f}\")\n",
        "\n",
        "print(\"\\nDecision Tree Performance Comparison:\")\n",
        "print(f\"Training F1 Score: {dt_train_f1:.4f}, Testing F1 Score: {dt_f1:.4f}\")\n"
      ],
      "metadata": {
        "colab": {
          "base_uri": "https://localhost:8080/"
        },
        "id": "MxWE83vT82qs",
        "outputId": "4ca4a42f-ca4e-4298-ca34-0e0f35a9b65d"
      },
      "execution_count": 79,
      "outputs": [
        {
          "output_type": "stream",
          "name": "stdout",
          "text": [
            "KNN Performance on Training Data:\n",
            "KNN Training F1 Score: 0.9985151757250798\n",
            "KNN Training Confusion Matrix:\n",
            "[[49858     0     0]\n",
            " [    0     4     0]\n",
            " [    1     0   112]]\n",
            "\n",
            "Decision Tree Performance on Training Data:\n",
            "Decision Tree Training F1 Score: 1.0\n",
            "Decision Tree Training Confusion Matrix:\n",
            "[[49858     0     0]\n",
            " [    0     4     0]\n",
            " [    0     0   113]]\n",
            "\n",
            "KNN Performance Comparison:\n",
            "Training F1 Score: 0.9985, Testing F1 Score: 0.9944\n",
            "\n",
            "Decision Tree Performance Comparison:\n",
            "Training F1 Score: 1.0000, Testing F1 Score: 0.9887\n"
          ]
        }
      ]
    },
    {
      "cell_type": "markdown",
      "source": [
        "## **e. Analisis Hasil Evaluasi Model Klasifikasi**"
      ],
      "metadata": {
        "id": "a_E9CIia3mId"
      }
    },
    {
      "cell_type": "markdown",
      "source": [
        "Berikut adalah **rekomendasi** tahapannya.\n",
        "1. Model KNN mencapai F1 Score 0.9944, menunjukkan performa yang lebih tinggi dibandingkan Decision Tree.\n",
        "2. KNN memiliki performa lebih baik, tetapi Decision Tree lebih mudah diinterpretasi dan lebih efisien dalam beberapa kasus.\n",
        "3. RandomizedSearchCV memberikan hasil yang sama untuk kedua model:\n",
        "F1 Score KNN: 0.9944\n",
        "F1 Score Decision Tree: 0.9887\n",
        "4. Berdasarkan hasil evaluasi, baik KNN maupun Decision Tree menunjukkan F1-score tinggi pada data latih dan uji, dengan selisih yang sangat kecil. Ini mengindikasikan bahwa kedua model tidak mengalami overfitting maupun underfitting dan mampu menggeneralisasi dengan baik. KNN sedikit lebih unggul dalam performa berdasarkan F1-score.\n",
        "5. Rekomendasi Perbaikan dan Kekurangan Pengujian Model\n",
        "- Parameter Tuning: Perluas rentang parameter dalam GridSearchCV dan RandomizedSearchCV untuk menemukan hyperparameter optimal.\n",
        "\n",
        "- Evaluasi Lebih Komprehensif: Gunakan metrik tambahan seperti akurasi, presisi, recall, AUC-ROC, serta lakukan cross-validation yang lebih robust.\n",
        "\n",
        "- Penanganan Imbalance Data: Jika kelas tidak seimbang, gunakan SMOTE, undersampling, atau weighting untuk meningkatkan performa.\n",
        "\n",
        "- Feature Engineering: Eksplorasi fitur baru, analisis korelasi, dan pertimbangkan PCA untuk mengurangi kompleksitas.\n",
        "\n",
        "- Feature Scaling: Terapkan StandardScaler atau MinMaxScaler, terutama untuk KNN, karena sensitif terhadap skala fitur.\n"
      ],
      "metadata": {
        "id": "IiDZ0mrK4hwo"
      }
    }
  ]
}